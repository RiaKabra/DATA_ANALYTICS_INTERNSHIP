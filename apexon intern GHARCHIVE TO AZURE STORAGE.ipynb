{
 "cells": [
  {
   "cell_type": "code",
   "execution_count": 0,
   "metadata": {
    "application/vnd.databricks.v1+cell": {
     "cellMetadata": {
      "byteLimit": 2048000,
      "rowLimit": 10000
     },
     "inputWidgets": {},
     "nuid": "232cba16-e1d3-42b8-9f11-7c53cc1a2108",
     "showTitle": false,
     "title": ""
    }
   },
   "outputs": [
    {
     "output_type": "stream",
     "name": "stdout",
     "output_type": "stream",
     "text": [
      "\u001B[43mNote: you may need to restart the kernel using dbutils.library.restartPython() to use updated packages.\u001B[0m\nCollecting azure-storage-blob\n  Using cached azure_storage_blob-12.18.1-py3-none-any.whl (392 kB)\nCollecting isodate>=0.6.1\n  Using cached isodate-0.6.1-py2.py3-none-any.whl (41 kB)\nCollecting azure-core<2.0.0,>=1.28.0\n  Using cached azure_core-1.29.4-py3-none-any.whl (192 kB)\nRequirement already satisfied: cryptography>=2.1.4 in /databricks/python3/lib/python3.10/site-packages (from azure-storage-blob) (37.0.1)\nRequirement already satisfied: typing-extensions>=4.3.0 in /databricks/python3/lib/python3.10/site-packages (from azure-storage-blob) (4.3.0)\nRequirement already satisfied: six>=1.11.0 in /usr/lib/python3/dist-packages (from azure-core<2.0.0,>=1.28.0->azure-storage-blob) (1.16.0)\nRequirement already satisfied: requests>=2.18.4 in /databricks/python3/lib/python3.10/site-packages (from azure-core<2.0.0,>=1.28.0->azure-storage-blob) (2.28.1)\nCollecting typing-extensions>=4.3.0\n  Using cached typing_extensions-4.8.0-py3-none-any.whl (31 kB)\nRequirement already satisfied: cffi>=1.12 in /databricks/python3/lib/python3.10/site-packages (from cryptography>=2.1.4->azure-storage-blob) (1.15.1)\nRequirement already satisfied: pycparser in /databricks/python3/lib/python3.10/site-packages (from cffi>=1.12->cryptography>=2.1.4->azure-storage-blob) (2.21)\nRequirement already satisfied: charset-normalizer<3,>=2 in /databricks/python3/lib/python3.10/site-packages (from requests>=2.18.4->azure-core<2.0.0,>=1.28.0->azure-storage-blob) (2.0.4)\nRequirement already satisfied: urllib3<1.27,>=1.21.1 in /databricks/python3/lib/python3.10/site-packages (from requests>=2.18.4->azure-core<2.0.0,>=1.28.0->azure-storage-blob) (1.26.11)\nRequirement already satisfied: idna<4,>=2.5 in /databricks/python3/lib/python3.10/site-packages (from requests>=2.18.4->azure-core<2.0.0,>=1.28.0->azure-storage-blob) (3.3)\nRequirement already satisfied: certifi>=2017.4.17 in /databricks/python3/lib/python3.10/site-packages (from requests>=2.18.4->azure-core<2.0.0,>=1.28.0->azure-storage-blob) (2022.9.14)\nInstalling collected packages: typing-extensions, isodate, azure-core, azure-storage-blob\n  Attempting uninstall: typing-extensions\n    Found existing installation: typing_extensions 4.3.0\n    Not uninstalling typing-extensions at /databricks/python3/lib/python3.10/site-packages, outside environment /local_disk0/.ephemeral_nfs/envs/pythonEnv-6e402e55-769e-4755-be48-e3ea936bdfb4\n    Can't uninstall 'typing_extensions'. No files were found to uninstall.\nSuccessfully installed azure-core-1.29.4 azure-storage-blob-12.18.1 isodate-0.6.1 typing-extensions-4.8.0\n\u001B[43mNote: you may need to restart the kernel using dbutils.library.restartPython() to use updated packages.\u001B[0m\n"
     ]
    }
   ],
   "source": [
    "pip install azure-storage-blob\n"
   ]
  },
  {
   "cell_type": "code",
   "execution_count": 0,
   "metadata": {
    "application/vnd.databricks.v1+cell": {
     "cellMetadata": {
      "byteLimit": 2048000,
      "rowLimit": 10000
     },
     "inputWidgets": {},
     "nuid": "42054a76-c94f-4657-a7a7-6f4c1f2e6abc",
     "showTitle": false,
     "title": ""
    }
   },
   "outputs": [
    {
     "output_type": "stream",
     "name": "stdout",
     "output_type": "stream",
     "text": [
      "Container 'github-issues-container' created.\n"
     ]
    }
   ],
   "source": [
    "from azure.storage.blob import BlobServiceClient\n",
    "\n",
    "# Set up Azure Storage connection\n",
    "azure_connection_string = \"connection-string"\n",
    "\n",
    "# Create Azure Blob Service Client\n",
    "blob_service_client = BlobServiceClient.from_connection_string(azure_connection_string)\n",
    "container_client = blob_service_client.get_container_client(container_name)\n",
    "\n",
    "# Create the container if it doesn't exist\n",
    "container_client.create_container()\n",
    "\n",
    "print(f\"Container '{container_name}' created.\")\n"
   ]
  },
  {
   "cell_type": "code",
   "execution_count": 0,
   "metadata": {
    "application/vnd.databricks.v1+cell": {
     "cellMetadata": {
      "byteLimit": 2048000,
      "rowLimit": 10000
     },
     "inputWidgets": {},
     "nuid": "c08b9328-53ba-4d78-88a7-01456404c85e",
     "showTitle": false,
     "title": ""
    }
   },
   "outputs": [],
   "source": [
    "dbutils.widgets.text(\"year\",'2023')\n",
    "dbutils.widgets.text(\"month\",'09')\n",
    "dbutils.widgets.text(\"day\",'01')\n",
    "dbutils.widgets.text(\"hour\",'01')\n",
    "year = int(dbutils.widgets.get('year'))\n",
    "month = int(dbutils.widgets.get('month'))\n",
    "day = int(dbutils.widgets.get('day'))\n",
    "hour = dbutils.widgets.get('hour')"
   ]
  },
  {
   "cell_type": "code",
   "execution_count": 0,
   "metadata": {
    "application/vnd.databricks.v1+cell": {
     "cellMetadata": {
      "byteLimit": 2048000,
      "rowLimit": 10000
     },
     "inputWidgets": {},
     "nuid": "800b77a3-f3be-49fe-b9bd-080a3f58b989",
     "showTitle": false,
     "title": ""
    }
   },
   "outputs": [
    {
     "output_type": "stream",
     "name": "stdout",
     "output_type": "stream",
     "text": [
      "Data from 2023-08-01-0 uploaded to Azure Storage.\nData from 2023-09-02-1 uploaded to Azure Storage.\n"
     ]
    },
    {
     "output_type": "display_data",
     "data": {
      "text/html": [
       "<style scoped>\n",
       "  .ansiout {\n",
       "    display: block;\n",
       "    unicode-bidi: embed;\n",
       "    white-space: pre-wrap;\n",
       "    word-wrap: break-word;\n",
       "    word-break: break-all;\n",
       "    font-family: \"Source Code Pro\", \"Menlo\", monospace;;\n",
       "    font-size: 13px;\n",
       "    color: #555;\n",
       "    margin-left: 4px;\n",
       "    line-height: 19px;\n",
       "  }\n",
       "</style>"
      ]
     },
     "metadata": {
      "application/vnd.databricks.v1+output": {
       "arguments": {},
       "data": "",
       "errorSummary": "Cancelled",
       "errorTraceType": "html",
       "metadata": {},
       "type": "ipynbError"
      }
     },
     "output_type": "display_data"
    }
   ],
   "source": [
    "import requests\n",
    "import gzip\n",
    "from azure.storage.blob import BlobServiceClient, ContentSettings\n",
    "\n",
    "# Set up Azure Storage connection\n",
    "azure_connection_string = \"DefaultEndpointsProtocol=https;AccountName=azureapexonintern;AccountKey=4uTPW2v4aVDvfu7Px75qKNpkM+sprr/DFqIPDuBj70anzdDzzgEfjubcqjAz/GOgvQG3gT6cSWWN+AStRwLI3Q==;EndpointSuffix=core.windows.net\"\n",
    "container_name = \"github-issues-container\"\n",
    "\n",
    "# Set up GitHub Archive URL\n",
    "github_archive_url = \"https://data.gharchive.org/{year}-{month:02d}-{day:02d}-{hour}.json.gz\"\n",
    "# Replace these with the desired date and time\n",
    "year = 2023\n",
    "month = 8\n",
    "day = 1\n",
    "hour = 0\n",
    "\n",
    "# Create Azure Blob Service Client\n",
    "blob_service_client = BlobServiceClient.from_connection_string(azure_connection_string)\n",
    "container_client = blob_service_client.get_container_client(container_name)\n",
    "\n",
    "# Loop through desired time range\n",
    "while True:\n",
    "    url = github_archive_url.format(year=year, month=month, day=day, hour=hour)\n",
    "    response = requests.get(url, stream=True)\n",
    "    \n",
    "    if response.status_code == 200:\n",
    "        blob_name = f\"{year}-{month:02d}-{day:02d}-{hour}.json.gz\"\n",
    "        blob_client = container_client.get_blob_client(blob_name)\n",
    "\n",
    "        # Upload the gzipped content to Azure Storage\n",
    "        blob_client.upload_blob(response.content, content_settings=ContentSettings(content_type=\"application/gzip\"))\n",
    "        \n",
    "        print(f\"Data from {year}-{month:02d}-{day:02d}-{hour} uploaded to Azure Storage.\")\n",
    "\n",
    "    hour += 1\n",
    "    if hour == 24:\n",
    "     hour = 0\n",
    "    day += 1\n",
    "    if day == 32:\n",
    "     day = 1\n",
    "    month += 1\n",
    "    if month == 13:\n",
    "     month = 1\n",
    "     year += 1\n",
    "\n",
    "    if year == 2023 and month == 9 and day == 1 and hour == 0:\n",
    "        break\n",
    "    \n",
    "    # if year > 2023:  # Adjust the end year as needed\n",
    "    #     break\n"
   ]
  },
  {
   "cell_type": "code",
   "execution_count": 0,
   "metadata": {
    "application/vnd.databricks.v1+cell": {
     "cellMetadata": {},
     "inputWidgets": {},
     "nuid": "51dd462a-3071-4c39-ab2e-79f30bb87d2b",
     "showTitle": false,
     "title": ""
    }
   },
   "outputs": [],
   "source": []
  }
 ],
 "metadata": {
  "application/vnd.databricks.v1+notebook": {
   "dashboards": [],
   "language": "python",
   "notebookMetadata": {
    "pythonIndentUnit": 4
   },
   "notebookName": "apexon intern GHARCHIVE TO AZURE STORAGE",
   "widgets": {
    "day": {
     "currentValue": "01",
     "nuid": "4b08d385-77fd-43e5-b6a4-c5a51fc70f89",
     "widgetInfo": {
      "widgetType": "text",
      "defaultValue": "01",
      "label": null,
      "name": "day",
      "options": {
       "widgetType": "text",
       "validationRegex": null
      }
     }
    },
    "hour": {
     "currentValue": "01",
     "nuid": "c738f73e-f243-492e-a4c6-bdfda1cab1ae",
     "widgetInfo": {
      "widgetType": "text",
      "defaultValue": "01",
      "label": null,
      "name": "hour",
      "options": {
       "widgetType": "text",
       "validationRegex": null
      }
     }
    },
    "month": {
     "currentValue": "09",
     "nuid": "0ae62a0f-f256-4a7d-9fa8-c0c16513004f",
     "widgetInfo": {
      "widgetType": "text",
      "defaultValue": "09",
      "label": null,
      "name": "month",
      "options": {
       "widgetType": "text",
       "validationRegex": null
      }
     }
    },
    "year": {
     "currentValue": "2023",
     "nuid": "5385fa6b-428c-4ece-93e3-dc8422b6f515",
     "widgetInfo": {
      "widgetType": "text",
      "defaultValue": "2023",
      "label": null,
      "name": "year",
      "options": {
       "widgetType": "text",
       "validationRegex": null
      }
     }
    }
   }
  }
 },
 "nbformat": 4,
 "nbformat_minor": 0
}
